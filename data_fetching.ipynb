{
  "nbformat": 4,
  "nbformat_minor": 0,
  "metadata": {
    "colab": {
      "name": "data_fetching.ipynb",
      "provenance": []
    },
    "kernelspec": {
      "name": "python3",
      "display_name": "Python 3"
    },
    "language_info": {
      "name": "python"
    }
  },
  "cells": [
    {
      "cell_type": "code",
      "execution_count": null,
      "metadata": {
        "id": "tCqOUDqZg6lO"
      },
      "outputs": [],
      "source": [
        "import logging\n",
        "import json\n",
        "import numpy as np\n",
        "import pandas as pd\n",
        "import pymongo\n",
        "from pymongo import MongoClient\n",
        "from datetime import datetime , timedelta\n",
        "from datetime import date\n",
        "from dateutil import parser\n",
        "import sys\n",
        "import copy\n",
        "import requests\n",
        "\n",
        "prod_db=MongoClient('giveservernumber:portid',username='',password='')\n",
        "prod_database=prod_db.get_database('givedatabasename')\n",
        "prod_tele=prod_database.get_collection('givetablename')\n",
        "\n",
        "\n",
        "fd_list=list(prod_tele.find({\"devId\":\"\"}))\n",
        "farmer_data=pd.json_normalize(fd_list).iloc[:,1:]\n",
        "\n",
        "normalized_data=pd.json_normalize(list(prod_tele.find({\"devId\":\"giveoneid\",\"raw.metadata.time\": {'$gte': \"givestarttime\", '$lte': \"endtime\"}}))).iloc[:,1:]\n",
        "                                                                                                                            \n",
        "                                                                                                                              \n",
        "\n",
        "\n",
        "print(len(normalized_data))\n",
        "normalized_data.to_excel('data.xlsx')"
      ]
    }
  ]
}